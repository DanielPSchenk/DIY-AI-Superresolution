{
 "cells": [
  {
   "cell_type": "code",
   "execution_count": null,
   "metadata": {},
   "outputs": [],
   "source": [
    "import os\n",
    "import torch\n",
    "import pandas as pd\n",
    "from PIL import Image\n",
    "from skimage import io, transform\n",
    "import numpy as np\n",
    "import matplotlib.pyplot as plt\n",
    "from torch.utils.data import Dataset, DataLoader\n",
    "from torchvision import transforms, utils\n",
    "import torch.nn.functional as f\n",
    "from tqdm import tqdm\n",
    "\n",
    "\n",
    "from networks.upscaler_small_backbone import UpscalerResNet\n",
    "from torch.optim import SGD\n",
    "from torch.optim import Adam\n",
    "from torch.nn import MSELoss\n",
    "from torch.nn import L1Loss\n",
    "\n",
    "from data.memory_dataset import MemoryData\n",
    "from data.ssd_dataset import SSDData\n",
    "from data.random_position_selector import RandomPartSelector\n",
    "from data.same_position_selector import SamePartSelector\n",
    "import torchvision.transforms.v2 as transforms\n",
    "\n",
    "from networks.trainer import train\n",
    "\n",
    "Image.MAX_IMAGE_PIXELS = None\n",
    "\n",
    "%load_ext autoreload\n",
    "%autoreload 2"
   ]
  },
  {
   "cell_type": "code",
   "execution_count": null,
   "metadata": {},
   "outputs": [],
   "source": [
    "hp = {\n",
    "    \"num_blocks\" : 1,\n",
    "    \"backbone_dimension\" : 128\n",
    "}"
   ]
  }
 ],
 "metadata": {
  "kernelspec": {
   "display_name": "i2dl",
   "language": "python",
   "name": "python3"
  },
  "language_info": {
   "name": "python",
   "version": "3.10.13"
  }
 },
 "nbformat": 4,
 "nbformat_minor": 2
}
